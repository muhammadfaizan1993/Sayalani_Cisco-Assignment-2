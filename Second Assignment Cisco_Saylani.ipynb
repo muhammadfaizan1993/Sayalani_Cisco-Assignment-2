{
 "cells": [
  {
   "cell_type": "code",
   "execution_count": 2,
   "metadata": {},
   "outputs": [
    {
     "name": "stdout",
     "output_type": "stream",
     "text": [
      "Enter students number : 98\n",
      "Enter students number : 98\n",
      "Enter students number : 75\n",
      "Enter students number : 62\n",
      "Enter students number : 20\n",
      "totalNumber = 353\n",
      "percentage = 70.6\n",
      "grade C\n"
     ]
    }
   ],
   "source": [
    "Number=[]\n",
    "totalNumber=0;\n",
    "for i in range (5):\n",
    "    l=int(input(\"Enter students number : \"))\n",
    "  \n",
    "    Number.append(l)\n",
    "    totalNumber=totalNumber+l\n",
    "\n",
    "print(\"totalNumber =\",totalNumber)  \n",
    "percentage=(totalNumber*100)/500\n",
    "print(\"percentage =\",percentage)\n",
    "if percentage>=90:\n",
    "    print(\"grade A\")\n",
    "elif percentage>=80:\n",
    "    print(\"grade B\")\n",
    "elif percentage>=70:\n",
    "    print(\"grade C\")    \n",
    "elif percentage>=60:\n",
    "    print(\"grade D\") \n",
    "else:\n",
    "    print(\"fail\")"
   ]
  },
  {
   "cell_type": "code",
   "execution_count": 3,
   "metadata": {},
   "outputs": [
    {
     "name": "stdout",
     "output_type": "stream",
     "text": [
      "Enter your number to check it's even or odd :4\n",
      "No is even\n"
     ]
    }
   ],
   "source": [
    "u=int(input(\"Enter your number to check it's even or odd :\"))\n",
    "if u%2==0:\n",
    "    print(\"No is even\")\n",
    "else:\n",
    "    print(\"No is odd\")"
   ]
  },
  {
   "cell_type": "code",
   "execution_count": 4,
   "metadata": {},
   "outputs": [
    {
     "name": "stdout",
     "output_type": "stream",
     "text": [
      "4\n"
     ]
    }
   ],
   "source": [
    "number=[231,356,897,787]\n",
    "print(len(number))"
   ]
  },
  {
   "cell_type": "code",
   "execution_count": 11,
   "metadata": {},
   "outputs": [
    {
     "name": "stdout",
     "output_type": "stream",
     "text": [
      "Sum of series= 2271\n"
     ]
    }
   ],
   "source": [
    "\n",
    "list=[231,356,897,787]\n",
    "x=len(list)\n",
    "sum=0\n",
    "for i in range (x):\n",
    "    sum=sum+list[i]\n",
    "print(\"Sum of series=\",sum)"
   ]
  },
  {
   "cell_type": "code",
   "execution_count": 12,
   "metadata": {},
   "outputs": [
    {
     "name": "stdout",
     "output_type": "stream",
     "text": [
      "897\n"
     ]
    }
   ],
   "source": [
    "values=[231,356,897,787]\n",
    "print(max(list))"
   ]
  },
  {
   "cell_type": "code",
   "execution_count": 13,
   "metadata": {},
   "outputs": [
    {
     "name": "stdout",
     "output_type": "stream",
     "text": [
      "1\n",
      "1\n",
      "2\n",
      "3\n"
     ]
    }
   ],
   "source": [
    "\n",
    "no=[1,1,2,3,5,8,13,21,34,55,89]\n",
    "t=len(no)\n",
    "for i in range(t):\n",
    "    if no[i]<5:\n",
    "        print(no[i])"
   ]
  },
  {
   "cell_type": "code",
   "execution_count": null,
   "metadata": {},
   "outputs": [],
   "source": []
  }
 ],
 "metadata": {
  "kernelspec": {
   "display_name": "Python 3",
   "language": "python",
   "name": "python3"
  },
  "language_info": {
   "codemirror_mode": {
    "name": "ipython",
    "version": 3
   },
   "file_extension": ".py",
   "mimetype": "text/x-python",
   "name": "python",
   "nbconvert_exporter": "python",
   "pygments_lexer": "ipython3",
   "version": "3.7.4"
  }
 },
 "nbformat": 4,
 "nbformat_minor": 2
}
